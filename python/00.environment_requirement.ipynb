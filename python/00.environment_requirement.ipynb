{
 "cells": [
  {
   "cell_type": "code",
   "execution_count": 1,
   "id": "6ca5d669-c4dc-4700-8969-eab4ce9a05ec",
   "metadata": {
    "tags": []
   },
   "outputs": [
    {
     "name": "stdout",
     "output_type": "stream",
     "text": [
      "Python version: 3.8.5 (default, Sep  4 2020, 07:30:14) \n",
      "[GCC 7.3.0]\n",
      "Platform: Linux 5.14.0-284.86.1.el9_2.x86_64\n"
     ]
    }
   ],
   "source": [
    "import sys\n",
    "import platform\n",
    "\n",
    "print(f\"Python version: {sys.version}\")\n",
    "print(f\"Platform: {platform.system()} {platform.release()}\")"
   ]
  },
  {
   "cell_type": "code",
   "execution_count": 2,
   "id": "5189a13c-d555-4ffa-92af-0c29b2b6039d",
   "metadata": {
    "tags": []
   },
   "outputs": [
    {
     "name": "stdout",
     "output_type": "stream",
     "text": [
      "alembic==1.5.8\n",
      "argon2-cffi==20.1.0\n",
      "asciitree==0.3.3\n",
      "async-generator==1.10\n",
      "attrs==20.3.0\n",
      "backcall==0.2.0\n",
      "bioframe==0.2.0\n",
      "bleach==3.3.0\n",
      "brotlipy==0.7.0\n",
      "certifi==2021.5.30\n",
      "certipy==0.1.3\n",
      "cffi @ file:///tmp/build/80754af9/cffi_1605538068321/work\n",
      "chardet @ file:///tmp/build/80754af9/chardet_1605303185383/work\n",
      "click==7.1.2\n",
      "conda==4.10.3\n",
      "conda-package-handling @ file:///tmp/build/80754af9/conda-package-handling_1603018141399/work\n",
      "cooler==0.8.11\n",
      "coolpuppy @ https://github.com/open2c/coolpuppy/archive/refs/heads/master.zip\n",
      "cooltools @ git+https://github.com/open2c/cooltools.git@68090d6e650b069d2439bbceced467b4ae6b920b\n",
      "cryptography @ file:///tmp/build/80754af9/cryptography_1605544487601/work\n",
      "cycler==0.10.0\n",
      "Cython==0.29.23\n",
      "cytoolz==0.10.1\n",
      "decorator==4.4.2\n",
      "defusedxml==0.7.1\n",
      "dill==0.3.3\n",
      "entrypoints==0.3\n",
      "flammkuchen==0.9.2\n",
      "greenlet==1.0.0\n",
      "h5py==3.2.1\n",
      "hic2cool==0.8.3\n",
      "idna @ file:///tmp/build/80754af9/idna_1593446292537/work\n",
      "imageio==2.9.0\n",
      "ipykernel==5.5.3\n",
      "ipython==7.23.0\n",
      "ipython-genutils==0.2.0\n",
      "ipywidgets==7.6.3\n",
      "jedi==0.18.0\n",
      "Jinja2==2.11.3\n",
      "joblib==1.0.1\n",
      "jsonschema==3.2.0\n",
      "jupyter==1.0.0\n",
      "jupyter-client==6.1.12\n",
      "jupyter-console==6.4.0\n",
      "jupyter-core==4.7.1\n",
      "jupyter-telemetry==0.1.0\n",
      "jupyterhub==1.4.0\n",
      "jupyterlab-pygments==0.1.2\n",
      "jupyterlab-widgets==1.0.0\n",
      "kiwisolver==1.3.1\n",
      "llvmlite==0.36.0\n",
      "Mako==1.1.4\n",
      "MarkupSafe==1.1.1\n",
      "matplotlib==3.4.1\n",
      "matplotlib-inline==0.1.2\n",
      "matplotlib-venn==0.11.7\n",
      "mistune==0.8.4\n",
      "mkl-fft==1.3.0\n",
      "mkl-random @ file:///tmp/build/80754af9/mkl_random_1626186064646/work\n",
      "mkl-service==2.4.0\n",
      "more-itertools==8.7.0\n",
      "mpmath==1.2.1\n",
      "multiprocess==0.70.11.1\n",
      "natsort==7.1.1\n",
      "nbclient==0.5.3\n",
      "nbconvert==6.0.7\n",
      "nbformat==5.1.3\n",
      "nest-asyncio==1.5.1\n",
      "networkx==2.5.1\n",
      "nose==1.3.7\n",
      "notebook==6.3.0\n",
      "numba==0.53.1\n",
      "numexpr==2.7.3\n",
      "numpy @ file:///tmp/build/80754af9/numpy_and_numpy_base_1626271506491/work\n",
      "oauthlib==3.1.0\n",
      "packaging==20.9\n",
      "pamela==1.0.0\n",
      "pandas==1.3.3\n",
      "pandocfilters==1.4.3\n",
      "parso==0.8.2\n",
      "pexpect==4.8.0\n",
      "pickleshare==0.7.5\n",
      "Pillow==8.2.0\n",
      "prometheus-client==0.10.1\n",
      "prompt-toolkit==3.0.18\n",
      "ptyprocess==0.7.0\n",
      "pyBigWig==0.3.18\n",
      "pycosat==0.6.3\n",
      "pycparser @ file:///tmp/build/80754af9/pycparser_1594388511720/work\n",
      "pyfaidx==0.5.9.5\n",
      "Pygments==2.9.0\n",
      "pyOpenSSL @ file:///tmp/build/80754af9/pyopenssl_1605545627475/work\n",
      "pypairix==0.3.7\n",
      "pyparsing==2.4.7\n",
      "pyrsistent==0.17.3\n",
      "PySocks @ file:///tmp/build/80754af9/pysocks_1605305779399/work\n",
      "python-dateutil==2.8.1\n",
      "python-editor==1.0.4\n",
      "python-json-logger==2.0.1\n",
      "pytz==2021.1\n",
      "PyWavelets==1.1.1\n",
      "PyYAML==5.4.1\n",
      "pyzmq==22.0.3\n",
      "qtconsole==5.1.0\n",
      "QtPy==1.9.0\n",
      "requests @ file:///tmp/build/80754af9/requests_1592841827918/work\n",
      "ruamel-yaml==0.15.87\n",
      "scikit-image==0.18.1\n",
      "scikit-learn==0.24.2\n",
      "scipy==1.6.3\n",
      "seaborn==0.11.1\n",
      "Send2Trash==1.5.0\n",
      "simplejson==3.17.2\n",
      "six @ file:///tmp/build/80754af9/six_1605205327372/work\n",
      "SQLAlchemy==1.4.12\n",
      "sympy==1.8\n",
      "tables==3.6.1\n",
      "terminado==0.9.4\n",
      "testpath==0.4.4\n",
      "threadpoolctl==2.1.0\n",
      "tifffile==2021.4.8\n",
      "toolz==0.11.1\n",
      "tornado==6.1\n",
      "tqdm @ file:///tmp/build/80754af9/tqdm_1605303662894/work\n",
      "traitlets==5.0.5\n",
      "urllib3 @ file:///tmp/build/80754af9/urllib3_1603305693037/work\n",
      "wcwidth==0.2.5\n",
      "webencodings==0.5.1\n",
      "widgetsnbextension==3.5.1\n"
     ]
    }
   ],
   "source": [
    "!pip freeze"
   ]
  },
  {
   "cell_type": "code",
   "execution_count": 3,
   "id": "047a8f79-0d04-4051-916b-bcf95c40b270",
   "metadata": {
    "tags": []
   },
   "outputs": [],
   "source": [
    "!pip freeze > requirements.txt"
   ]
  }
 ],
 "metadata": {
  "kernelspec": {
   "display_name": "cooltools_env",
   "language": "python",
   "name": "cooltools_oct21_env"
  },
  "language_info": {
   "codemirror_mode": {
    "name": "ipython",
    "version": 3
   },
   "file_extension": ".py",
   "mimetype": "text/x-python",
   "name": "python",
   "nbconvert_exporter": "python",
   "pygments_lexer": "ipython3",
   "version": "3.8.5"
  }
 },
 "nbformat": 4,
 "nbformat_minor": 5
}
