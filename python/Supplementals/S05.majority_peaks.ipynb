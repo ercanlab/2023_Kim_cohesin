{
 "cells": [
  {
   "cell_type": "code",
   "execution_count": 1,
   "id": "fad20486-b840-44b7-b0ce-d3e1a5f4e9a7",
   "metadata": {
    "tags": []
   },
   "outputs": [],
   "source": [
    "import numpy as np\n",
    "import pandas as pd\n",
    "import seaborn as sns\n",
    "import bioframe"
   ]
  },
  {
   "cell_type": "code",
   "execution_count": null,
   "id": "74b959da-bf39-4592-87b9-5f6154b88fff",
   "metadata": {},
   "outputs": [],
   "source": [
    "\n",
    "# mergedBAM peak summits\n",
    "smc3_jk06_merge = bioframe.read_table('/scratch/cgsb/ercan/Jun_cohesin/cohesin_revision_2/pipeline_output/MACSoutput/SMC3_JK06_1haux_avg_JK167_JK185_HW47_HW49_chip_peaks.bed',schema='bed12')\n",
    "smc3_jk06_merge_s = bioframe.read_table('/scratch/cgsb/ercan/Jun_cohesin/cohesin_revision_2/pipeline_output/MACSoutput/SMC3_JK06_1haux_avg_JK167_JK185_HW47_HW49_chip_summits.bed',schema='bed12')\n",
    "\n",
    "# individual rep peaks\n",
    "smc3_jk06_1 = bioframe.read_table('/scratch/cgsb/ercan/Jun_cohesin/cohesin_revision_2/pipeline_output/MACSoutput/SMC3_JK06_1haux_ext1_JK167_input_JK140_peaks.bed',schema='bed12')\n",
    "smc3_jk06_2 = bioframe.read_table('/scratch/cgsb/ercan/Jun_cohesin/cohesin_revision_2/pipeline_output/MACSoutput/SMC3_JK06_1haux_ext2_JK185_input_JK186_peaks.bed',schema='bed12')\n",
    "smc3_jk06_3 = bioframe.read_table('/scratch/cgsb/ercan/Jun_cohesin/cohesin_revision_2/pipeline_output/MACSoutput/SMC3_JK06_1haux_ext3_HW47_input_HW44_peaks.bed',schema='bed12')\n",
    "smc3_jk06_4 = bioframe.read_table('/scratch/cgsb/ercan/Jun_cohesin/cohesin_revision_2/pipeline_output/MACSoutput/SMC3_JK06_1haux_ext4_HW49_input_HW45_peaks.bed',schema='bed12')\n",
    "smc3_jk06_lst = [smc3_jk06_1,smc3_jk06_2,smc3_jk06_3,smc3_jk06_4]"
   ]
  }
 ],
 "metadata": {
  "kernelspec": {
   "display_name": "cooltools_env",
   "language": "python",
   "name": "cooltools_oct21_env"
  },
  "language_info": {
   "codemirror_mode": {
    "name": "ipython",
    "version": 3
   },
   "file_extension": ".py",
   "mimetype": "text/x-python",
   "name": "python",
   "nbconvert_exporter": "python",
   "pygments_lexer": "ipython3",
   "version": "3.8.5"
  }
 },
 "nbformat": 4,
 "nbformat_minor": 5
}
