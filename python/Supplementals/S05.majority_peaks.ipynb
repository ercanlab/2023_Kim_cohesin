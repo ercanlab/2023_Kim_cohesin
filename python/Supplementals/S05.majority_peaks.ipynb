{
 "cells": [
  {
   "cell_type": "code",
   "execution_count": 1,
   "id": "fad20486-b840-44b7-b0ce-d3e1a5f4e9a7",
   "metadata": {
    "tags": []
   },
   "outputs": [],
   "source": [
    "import numpy as np\n",
    "import pandas as pd\n",
    "import seaborn as sns\n",
    "import bioframe"
   ]
  },
  {
   "cell_type": "code",
   "execution_count": 2,
   "id": "74b959da-bf39-4592-87b9-5f6154b88fff",
   "metadata": {
    "tags": []
   },
   "outputs": [],
   "source": [
    "\n",
    "# mergedBAM peak summits\n",
    "smc3_jk06_merge = bioframe.read_table('/scratch/cgsb/ercan/Jun_cohesin/cohesin_revision_2/pipeline_output/MACSoutput/SMC3_JK06_1haux_avg_JK167_JK185_HW47_HW49_chip_peaks.bed',schema='bed12')\n",
    "smc3_jk06_merge_s = bioframe.read_table('/scratch/cgsb/ercan/Jun_cohesin/cohesin_revision_2/pipeline_output/MACSoutput/SMC3_JK06_1haux_avg_JK167_JK185_HW47_HW49_chip_summits.bed',schema='bed12')\n",
    "\n",
    "# individual rep peaks\n",
    "smc3_jk06_1 = bioframe.read_table('/scratch/cgsb/ercan/Jun_cohesin/cohesin_revision_2/pipeline_output/MACSoutput/SMC3_JK06_1haux_ext1_JK167_input_JK140_peaks.bed',schema='bed12')\n",
    "smc3_jk06_2 = bioframe.read_table('/scratch/cgsb/ercan/Jun_cohesin/cohesin_revision_2/pipeline_output/MACSoutput/SMC3_JK06_1haux_ext2_JK185_input_JK186_peaks.bed',schema='bed12')\n",
    "smc3_jk06_3 = bioframe.read_table('/scratch/cgsb/ercan/Jun_cohesin/cohesin_revision_2/pipeline_output/MACSoutput/SMC3_JK06_1haux_ext3_HW47_input_HW44_peaks.bed',schema='bed12')\n",
    "smc3_jk06_4 = bioframe.read_table('/scratch/cgsb/ercan/Jun_cohesin/cohesin_revision_2/pipeline_output/MACSoutput/SMC3_JK06_1haux_ext4_HW49_input_HW45_peaks.bed',schema='bed12')\n",
    "smc3_jk06_lst = [smc3_jk06_1,smc3_jk06_2,smc3_jk06_3,smc3_jk06_4]"
   ]
  },
  {
   "cell_type": "code",
   "execution_count": 3,
   "id": "d150ed73-13f5-4cac-acf6-aac8883b8264",
   "metadata": {
    "tags": []
   },
   "outputs": [],
   "source": [
    "\n",
    "def majorityintersect(merge, merge_summit, reps_lst):\n",
    "    merge_meta = merge.copy()\n",
    "    nreps = len(reps_lst)\n",
    "    thresh = nreps/2\n",
    "    print('must be present in greater than n samples:',thresh)\n",
    "    print('merge peaks n:',len(merge_meta))\n",
    "    for i in range(nreps):\n",
    "        print('rep peaks n:',len(reps_lst[i]))\n",
    "        t = bioframe.closest(merge,reps_lst[i])\n",
    "        merge_meta[str(i)] = t.distance\n",
    "    meta_d = merge_meta.iloc[:,-nreps:]\n",
    "    meta_bool = (meta_d==0).sum(axis=1) > thresh\n",
    "    output_peak = merge_meta[meta_bool].reset_index(drop=True)\n",
    "    output_summit = merge_summit.copy()[meta_bool].reset_index(drop=True)\n",
    "    print('output peaks n:', len(output_peak))\n",
    "    return output_peak, output_summit\n"
   ]
  },
  {
   "cell_type": "code",
   "execution_count": 4,
   "id": "d8b6e9f6-1b38-443c-a18d-3762da102745",
   "metadata": {
    "tags": []
   },
   "outputs": [
    {
     "name": "stdout",
     "output_type": "stream",
     "text": [
      "must be present in greater than n samples: 2.0\n",
      "merge peaks n: 11258\n",
      "rep peaks n: 7773\n",
      "rep peaks n: 7737\n",
      "rep peaks n: 8876\n",
      "rep peaks n: 6782\n",
      "output peaks n: 6107\n"
     ]
    }
   ],
   "source": [
    "smc3_jk06 = majorityintersect(smc3_jk06_merge,smc3_jk06_merge_s,smc3_jk06_lst)"
   ]
  },
  {
   "cell_type": "code",
   "execution_count": 5,
   "id": "45ca6a59-05f5-4770-9fd5-40bdf165128f",
   "metadata": {
    "tags": []
   },
   "outputs": [],
   "source": [
    "#smc3_jk06[0].iloc[:,:12].to_csv('./manual_majorityintersect/GSM7635381_SMC3_JK06_1hrauxin_majorityintersect_peaks.bed',header=False,index=False,sep='\\t')\n",
    "#smc3_jk06[1].iloc[:,:12].to_csv('./manual_majorityintersect/GSM7635381_SMC3_JK06_1hrauxin_majorityintersect_peaksummits.bed',header=False,index=False,sep='\\t')\n"
   ]
  },
  {
   "cell_type": "code",
   "execution_count": null,
   "id": "30470c3a-a6e3-4ebc-b74b-07ea5ed646b9",
   "metadata": {},
   "outputs": [],
   "source": []
  }
 ],
 "metadata": {
  "kernelspec": {
   "display_name": "cooltools_env",
   "language": "python",
   "name": "cooltools_oct21_env"
  },
  "language_info": {
   "codemirror_mode": {
    "name": "ipython",
    "version": 3
   },
   "file_extension": ".py",
   "mimetype": "text/x-python",
   "name": "python",
   "nbconvert_exporter": "python",
   "pygments_lexer": "ipython3",
   "version": "3.8.5"
  }
 },
 "nbformat": 4,
 "nbformat_minor": 5
}
