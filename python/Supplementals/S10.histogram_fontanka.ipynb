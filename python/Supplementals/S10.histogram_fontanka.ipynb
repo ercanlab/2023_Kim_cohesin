{
 "cells": [
  {
   "cell_type": "code",
   "execution_count": 1,
   "id": "e006d464-93cc-48f5-bf90-3786328202ca",
   "metadata": {},
   "outputs": [],
   "source": [
    "import numpy as np\n",
    "import matplotlib.pyplot as plt\n",
    "import pandas as pd\n",
    "import seaborn as sns\n",
    "from matplotlib_venn import venn3\n",
    "from matplotlib_venn import venn2\n",
    "from matplotlib_venn import venn2_circles\n",
    "\n",
    "import cooler\n",
    "import bioframe\n",
    "from scipy.spatial.distance import pdist, squareform\n",
    "from matplotlib.colors import LogNorm\n",
    "from matplotlib.ticker import EngFormatter\n",
    "import csv\n",
    "\n",
    "bp_formatter = EngFormatter('b')\n",
    "def format_ticks(ax, x=True, y=True, rotate=True):\n",
    "    if y:\n",
    "        ax.yaxis.set_major_formatter(bp_formatter)\n",
    "    if x:\n",
    "        ax.xaxis.set_major_formatter(bp_formatter)\n",
    "        ax.xaxis.tick_bottom()\n",
    "    if rotate:\n",
    "        ax.tick_params(axis='x',rotation=45)"
   ]
  },
  {
   "cell_type": "code",
   "execution_count": 2,
   "id": "8a781a83-f337-43b7-a9c6-6e51d13043fd",
   "metadata": {},
   "outputs": [],
   "source": [
    "\n",
    "left = bioframe.read_table('/home/kimj50/cohesin_paper/_notebook_v3/fontanka_calls/fontanka_FS0.2_Scharr95_ctr_wapl_left_unique.bed',schema='bed3')\n",
    "right = bioframe.read_table('/home/kimj50/cohesin_paper/_notebook_v3/fontanka_calls/fontanka_FS0.2_Scharr95_ctr_wapl_right_unique.bed',schema='bed3')\n",
    "\n",
    "left['chrom'] = 'chr'+left['chrom']\n",
    "right['chrom'] = 'chr'+right['chrom']\n",
    "\n",
    "smc3_ca1200_s = bioframe.read_table('/home/kimj50/cohesin_paper/SMC1_SMC3_chips/MACSoutput/SMC3_Q4469_CA1200_1hrauxin_avg_JK165_JK166_chip_summits.bed',schema='bed6')\n",
    "nipbl_ca1200_s = bioframe.read_table('/scratch/cgsb/ercan/GEO/GEO_cohesin_2/chip_processed/PQN85_CA1200_1hrauxin_avg_chip_summits.bed',schema='bed6')\n",
    "pol2_ca1200_s = bioframe.read_table('/scratch/cgsb/ercan/GEO/GEO_cohesin_2/chip_processed/8WG16_CA1200_1hrauxin_avg_chip_summits.bed',schema='bed6')\n",
    "\n"
   ]
  },
  {
   "cell_type": "code",
   "execution_count": 3,
   "id": "a5174f38-1e03-4fc5-a11c-63aae92f2e2a",
   "metadata": {},
   "outputs": [],
   "source": [
    "def fountain_summits(fountain_origin,summit,maxD):\n",
    "    # assign to nearest origin #\n",
    "    fountain_origin['mid'] = (fountain_origin.start+fountain_origin.end) // 2\n",
    "    fountain_origin['mid1'] = fountain_origin['mid']+1\n",
    "    \n",
    "    origin_s = bioframe.closest(summit,fountain_origin,cols2=('chrom','mid','mid1'))\n",
    "#    print(origin_s)\n",
    "    origin_s_up_bool = origin_s.start_1 < origin_s.mid_2\n",
    "    origin_s_down_bool = origin_s.start_1 > origin_s.mid_2\n",
    "\n",
    "    origin_s_up = origin_s.distance[origin_s.distance < maxD][origin_s_up_bool]*-1\n",
    "    origin_s_down = origin_s.distance[origin_s.distance < maxD][origin_s_down_bool]\n",
    "\n",
    "    origins_s_dist = np.concatenate([origin_s_up,origin_s_down])\n",
    "\n",
    "    return origins_s_dist\n",
    "\n",
    "origins = [left,right]\n",
    "\n",
    "origins_smc3 = []\n",
    "origins_nipbl = []\n",
    "origins_pol2 = []\n",
    "maxD = 40_000\n",
    "for i in origins:\n",
    "    a = fountain_summits(i,smc3_ca1200_s,maxD)\n",
    "    b = fountain_summits(i,nipbl_ca1200_s,maxD)\n",
    "    c = fountain_summits(i,pol2_ca1200_s,maxD)\n",
    "    origins_smc3.append(a)\n",
    "    origins_nipbl.append(b)\n",
    "    origins_pol2.append(c)\n",
    "\n"
   ]
  },
  {
   "cell_type": "code",
   "execution_count": 4,
   "id": "3e5fb1da-d9e2-4b0d-8e8b-41e5fa0161b0",
   "metadata": {},
   "outputs": [
    {
     "name": "stdout",
     "output_type": "stream",
     "text": [
      "-40000 40000\n",
      "-40000 40000\n",
      "-40000 40000\n"
     ]
    },
    {
     "data": {
      "image/png": "[encoded data removed]",
      "text/plain": [
       "<Figure size 864x288 with 3 Axes>"
      ]
     },
     "metadata": {
      "needs_background": "light"
     },
     "output_type": "display_data"
    }
   ],
   "source": [
    "# Create the plot\n",
    "\n",
    "f, axs = plt.subplots(\n",
    "    figsize=(12, 4),\n",
    "    nrows=1,\n",
    "    ncols=3,\n",
    "    sharex=True,sharey=True\n",
    ")\n",
    "# Compute the bin edges\n",
    "\n",
    "dats = [origins_smc3,origins_nipbl,origins_pol2]\n",
    "colors = ['black','red']\n",
    "subtitles = ['SMC3 summits','NIPBL summits','Pol2 summits']\n",
    "for d in range(len(dats)):\n",
    "    dat = dats[d]\n",
    "    bin_width = 1000\n",
    "    min_edge = maxD*-1\n",
    "    max_edge = maxD\n",
    "    print(min_edge,max_edge)\n",
    "    bins = np.arange(min_edge, max_edge + bin_width, bin_width)\n",
    "\n",
    "    ax=axs[d]\n",
    "    a=sns.histplot(ax=ax,data=dat[0], bins=bins, alpha=0.2, element='step', color='black', stat='count')\n",
    "    a=sns.histplot(ax=ax,data=dat[1], bins=bins, alpha=0.2, element='step', color='red', stat='count')\n",
    "\n",
    "    axs[d].set_xlabel('')\n",
    "    format_ticks(ax=axs[d],x=True,y=False,rotate=False)\n",
    "    axs[d].set_title(subtitles[d])\n",
    "\n",
    "\n",
    "#plt.ylabel('Count')\n",
    "#plt.title('Comparison of smc3_right and smc3_left Histograms')\n",
    "\n",
    "# Show the plot\n",
    "plt.legend(['Left tilt', 'Right tilt'])\n",
    "plt.tight_layout()"
   ]
  },
  {
   "cell_type": "code",
   "execution_count": null,
   "id": "e3d9af8d-95a6-49ff-961e-587a782ad11f",
   "metadata": {},
   "outputs": [],
   "source": []
  }
 ],
 "metadata": {
  "kernelspec": {
   "display_name": "cooltools_env",
   "language": "python",
   "name": "cooltools_oct21_env"
  },
  "language_info": {
   "codemirror_mode": {
    "name": "ipython",
    "version": 3
   },
   "file_extension": ".py",
   "mimetype": "text/x-python",
   "name": "python",
   "nbconvert_exporter": "python",
   "pygments_lexer": "ipython3",
   "version": "3.8.5"
  }
 },
 "nbformat": 4,
 "nbformat_minor": 5
}
